{
 "cells": [
  {
   "cell_type": "markdown",
   "id": "dc683128",
   "metadata": {
    "dc": {
     "key": "3"
    },
    "deletable": false,
    "editable": false,
    "run_control": {
     "frozen": true
    },
    "tags": [
     "context"
    ]
   },
   "source": [
    "## 1. Sound it out!\n",
    "<p>Grey and Gray. Colour and Color. Words like these have been the cause of many heated arguments between Brits and Americans. Accents (and jokes) aside, there are many words that are pronounced the same way but have different spellings. While it is easy for us to realize their equivalence, basic programming commands will fail to equate such two strings. </p>\n",
    "<p>More extreme than word spellings are names because people have more flexibility in choosing to spell a name in a certain way. To some extent, tradition sometimes governs the way a name is spelled, which limits the number of variations of any given English name. But if we consider global names and their associated English spellings, you can only imagine how many ways they can be spelled out. </p>\n",
    "<p>One way to tackle this challenge is to write a program that checks if two strings sound the same, instead of checking for equivalence in spellings. We'll do that here using fuzzy name matching.</p>"
   ]
  },
  {
   "cell_type": "code",
   "execution_count": null,
   "id": "ccb7313e",
   "metadata": {
    "dc": {
     "key": "3"
    },
    "tags": [
     "sample_code"
    ]
   },
   "outputs": [
    {
     "data": {
      "text/plain": [
       "False"
      ]
     },
     "execution_count": 73,
     "metadata": {},
     "output_type": "execute_result"
    }
   ],
   "source": [
    "# Importing the fuzzy package\n",
    "import fuzzy\n",
    "\n",
    "# Exploring the output of fuzzy.nysiis\n",
    "fuzzy.nysiis('babiqueue') \n",
    "# Testing equivalence of similar sounding words\n",
    "fuzzy.nysiis('babiqueue') == fuzzy.nysiis('barbeque')\n",
    "\n",
    "\n"
   ]
  },
  {
   "cell_type": "markdown",
   "id": "052b8515",
   "metadata": {
    "dc": {
     "key": "10"
    },
    "deletable": false,
    "editable": false,
    "run_control": {
     "frozen": true
    },
    "tags": [
     "context"
    ]
   },
   "source": [
    "## 2. Authoring the authors\n",
    "<p>The New York Times puts out a weekly list of best-selling books from different genres, and which has been published since the 1930’s.  We’ll focus on Children’s Picture Books, and analyze the gender distribution of authors to see if there have been changes over time. We'll begin by reading in the data on the best selling authors from 2008 to 2017.</p>"
   ]
  },
  {
   "cell_type": "code",
   "execution_count": null,
   "id": "9c51b184",
   "metadata": {
    "dc": {
     "key": "10"
    },
    "tags": [
     "sample_code"
    ]
   },
   "outputs": [
    {
     "data": {
      "text/html": [
       "<div>\n",
       "<style scoped>\n",
       "    .dataframe tbody tr th:only-of-type {\n",
       "        vertical-align: middle;\n",
       "    }\n",
       "\n",
       "    .dataframe tbody tr th {\n",
       "        vertical-align: top;\n",
       "    }\n",
       "\n",
       "    .dataframe thead th {\n",
       "        text-align: right;\n",
       "    }\n",
       "</style>\n",
       "<table border=\"1\" class=\"dataframe\">\n",
       "  <thead>\n",
       "    <tr style=\"text-align: right;\">\n",
       "      <th></th>\n",
       "      <th>Year</th>\n",
       "      <th>Book Title</th>\n",
       "      <th>Author</th>\n",
       "      <th>Besteller this year</th>\n",
       "      <th>first_name</th>\n",
       "    </tr>\n",
       "  </thead>\n",
       "  <tbody>\n",
       "    <tr>\n",
       "      <th>0</th>\n",
       "      <td>2017</td>\n",
       "      <td>DRAGONS LOVE TACOS</td>\n",
       "      <td>Adam Rubin</td>\n",
       "      <td>49</td>\n",
       "      <td>Adam</td>\n",
       "    </tr>\n",
       "    <tr>\n",
       "      <th>1</th>\n",
       "      <td>2017</td>\n",
       "      <td>THE WONDERFUL THINGS YOU WILL BE</td>\n",
       "      <td>Emily Winfield Martin</td>\n",
       "      <td>48</td>\n",
       "      <td>Emily</td>\n",
       "    </tr>\n",
       "    <tr>\n",
       "      <th>2</th>\n",
       "      <td>2017</td>\n",
       "      <td>THE DAY THE CRAYONS QUIT</td>\n",
       "      <td>Drew Daywalt</td>\n",
       "      <td>44</td>\n",
       "      <td>Drew</td>\n",
       "    </tr>\n",
       "    <tr>\n",
       "      <th>3</th>\n",
       "      <td>2017</td>\n",
       "      <td>ROSIE REVERE, ENGINEER</td>\n",
       "      <td>Andrea Beaty</td>\n",
       "      <td>38</td>\n",
       "      <td>Andrea</td>\n",
       "    </tr>\n",
       "    <tr>\n",
       "      <th>4</th>\n",
       "      <td>2017</td>\n",
       "      <td>ADA TWIST, SCIENTIST</td>\n",
       "      <td>Andrea Beaty</td>\n",
       "      <td>28</td>\n",
       "      <td>Andrea</td>\n",
       "    </tr>\n",
       "  </tbody>\n",
       "</table>\n",
       "</div>"
      ],
      "text/plain": [
       "   Year                        Book Title                 Author  \\\n",
       "0  2017                DRAGONS LOVE TACOS             Adam Rubin   \n",
       "1  2017  THE WONDERFUL THINGS YOU WILL BE  Emily Winfield Martin   \n",
       "2  2017          THE DAY THE CRAYONS QUIT           Drew Daywalt   \n",
       "3  2017            ROSIE REVERE, ENGINEER           Andrea Beaty   \n",
       "4  2017              ADA TWIST, SCIENTIST           Andrea Beaty   \n",
       "\n",
       "   Besteller this year first_name  \n",
       "0                   49       Adam  \n",
       "1                   48      Emily  \n",
       "2                   44       Drew  \n",
       "3                   38     Andrea  \n",
       "4                   28     Andrea  "
      ]
     },
     "execution_count": 75,
     "metadata": {},
     "output_type": "execute_result"
    }
   ],
   "source": [
    "# Importing the pandas module\n",
    "import pandas as pd\n",
    "\n",
    "# Reading in datasets/nytkids_yearly.csv, which is semicolon delimited.\n",
    "author_df=pd.read_csv('datasets/nytkids_yearly.csv',sep=';')\n",
    "# Looping through author_df['Author'] to extract the authors first names\n",
    "first_name = []\n",
    "for name in author_df['Author']:\n",
    "    first_name.append (name.split()[0]) \n",
    "    \n",
    "\n",
    "# Adding first_name as a column to author_df\n",
    "author_df['first_name'] = first_name \n",
    "# Checking out the first few rows of author_df\n",
    "author_df.head()"
   ]
  },
  {
   "cell_type": "markdown",
   "id": "744e78fd",
   "metadata": {
    "dc": {
     "key": "17"
    },
    "deletable": false,
    "editable": false,
    "run_control": {
     "frozen": true
    },
    "tags": [
     "context"
    ]
   },
   "source": [
    "## 3. It's time to bring on the phonics... _again_!\n",
    "<p>When we were young children, we were taught to read using phonics; sounding out the letters that compose words. So let's relive history and do that again, but using python this time. We will now create a new column or list that contains the phonetic equivalent of every first name that we just extracted. </p>\n",
    "<p>To make sure we're on the right track, let's compare the number of unique values in the <code>first_name</code> column and the number of unique values in the nysiis coded column. As a rule of thumb, the number of unique nysiis first names should be less than or equal to the number of actual first names.</p>"
   ]
  },
  {
   "cell_type": "code",
   "execution_count": null,
   "id": "0a7e4446",
   "metadata": {
    "dc": {
     "key": "17"
    },
    "tags": [
     "sample_code"
    ]
   },
   "outputs": [
    {
     "name": "stdout",
     "output_type": "stream",
     "text": [
      "25\n"
     ]
    }
   ],
   "source": [
    "# Importing numpy\n",
    "import numpy as np \n",
    "\n",
    "# Looping through author's first names to create the nysiis (fuzzy) equivalent\n",
    "nysiis_name = []\n",
    "for first in author_df['first_name']:\n",
    "    nysiis_name.append(fuzzy.nysiis(first))\n",
    "   \n",
    "\n",
    "# Adding nysiis_name as a column to author_df\n",
    "author_df['nysiis_name'] = nysiis_name\n",
    "\n",
    "# Printing out the difference between unique firstnames and unique nysiis_names:\n",
    "print(len(np.unique(author_df['first_name'])) - len(np.unique(author_df['nysiis_name']\n",
    "                                                             )))\n",
    "\n"
   ]
  },
  {
   "cell_type": "markdown",
   "id": "8612345b",
   "metadata": {
    "dc": {
     "key": "24"
    },
    "deletable": false,
    "editable": false,
    "run_control": {
     "frozen": true
    },
    "tags": [
     "context"
    ]
   },
   "source": [
    "## 4. The inbetweeners\n",
    "<p>We'll use <code>babynames_nysiis.csv</code>, a dataset that is derived from <a href=\"https://www.ssa.gov/oact/babynames/limits.html\">the Social Security Administration’s baby name data</a>, to identify author genders. The dataset contains unique NYSIIS versions of baby names, and also includes the percentage of times the name appeared as a female name (<code>perc_female</code>) and the percentage of times it appeared as a male name (<code>perc_male</code>). </p>\n",
    "<p>We'll use this data to create a list of <code>gender</code>. Let's make the following simplifying assumption: For each name, if <code>perc_female</code> is greater than <code>perc_male</code> then assume the name is female, if <code>perc_female</code> is less than <code>perc_male</code> then assume it is a male name, and if the percentages are equal then it's a \"neutral\" name.</p>"
   ]
  },
  {
   "cell_type": "code",
   "execution_count": null,
   "id": "3c0a62f6",
   "metadata": {
    "dc": {
     "key": "24"
    },
    "tags": [
     "sample_code"
    ]
   },
   "outputs": [
    {
     "name": "stdout",
     "output_type": "stream",
     "text": [
      "  babynysiis  perc_female  perc_male\n",
      "0        NaN        62.50      37.50\n",
      "1        RAX        63.64      36.36\n",
      "2       ESAR        44.44      55.56\n",
      "3      DJANG         0.00     100.00\n",
      "4     PARCAL        25.00      75.00\n",
      "  babynysiis  perc_female  perc_male gender\n",
      "0        NaN        62.50      37.50      F\n",
      "1        RAX        63.64      36.36      F\n",
      "2       ESAR        44.44      55.56      M\n",
      "3      DJANG         0.00     100.00      M\n",
      "4     PARCAL        25.00      75.00      M\n"
     ]
    }
   ],
   "source": [
    "# Reading in datasets/babynames_nysiis.csv, which is semicolon delimited.\n",
    "babies_df = pd.read_csv('datasets/babynames_nysiis.csv',sep=';')\n",
    "print(babies_df.head())\n",
    "# Looping through babies_df to and filling up gender\n",
    "gender = []\n",
    "for i in babies_df.index:\n",
    "  if babies_df['perc_female'][i]>babies_df['perc_male'][i]:\n",
    "    gender.append('F')\n",
    "  elif babies_df['perc_female'][i]<babies_df['perc_male'][i]:\n",
    "    gender.append('M')\n",
    "  elif babies_df['perc_female'][i] == babies_df['perc_male'][i]:\n",
    "    gender.append('N')\n",
    "    \n",
    "\n",
    "# Adding a gender column to babies_df\n",
    "babies_df['gender'] = gender \n",
    "\n",
    "# Printing out the first few rows of babies_df\n",
    "print(babies_df.head())"
   ]
  },
  {
   "cell_type": "markdown",
   "id": "5e3e3076",
   "metadata": {
    "dc": {
     "key": "31"
    },
    "deletable": false,
    "editable": false,
    "run_control": {
     "frozen": true
    },
    "tags": [
     "context"
    ]
   },
   "source": [
    "## 5. Playing matchmaker\n",
    "<p>Now that we have identified the likely genders of different names, let's find author genders by searching for each author's name in the <code>babies_df</code> DataFrame, and extracting the associated gender. </p>"
   ]
  },
  {
   "cell_type": "code",
   "execution_count": null,
   "id": "37e6bd60",
   "metadata": {
    "dc": {
     "key": "31"
    },
    "tags": [
     "sample_code"
    ]
   },
   "outputs": [
    {
     "data": {
      "text/plain": [
       "F                 395\n",
       "M                 191\n",
       "does not exist      9\n",
       "N                   8\n",
       "Name: author_gender, dtype: int64"
      ]
     },
     "execution_count": 81,
     "metadata": {},
     "output_type": "execute_result"
    }
   ],
   "source": [
    "# This function returns the location of an element in a_list.\n",
    "# Where an item does not exist, it returns -1.\n",
    "def locate_in_list(a_list, element):\n",
    "    loc_of_name = a_list.index(element) if element in a_list else -1\n",
    "    return(loc_of_name)\n",
    "\n",
    "# Looping through author_df['nysiis_name'] and appending the gender of each\n",
    "# author to author_gender.\n",
    "author_gender = []\n",
    "for name in author_df['nysiis_name']:\n",
    "    loc=locate_in_list(list(babies_df['babynysiis']),name)\n",
    "    if loc==-1:\n",
    "        author_gender.append('does not exist')\n",
    "    else:\n",
    "         author_gender.append(babies_df['gender'][loc])\n",
    "\n",
    "\n",
    "# Adding author_gender to the author_df\n",
    "author_df['author_gender'] = author_gender\n",
    "\n",
    "# Counting the author's genders\n",
    "author_df['author_gender'].value_counts()"
   ]
  },
  {
   "cell_type": "markdown",
   "id": "8557b607",
   "metadata": {
    "dc": {
     "key": "38"
    },
    "deletable": false,
    "editable": false,
    "run_control": {
     "frozen": true
    },
    "tags": [
     "context"
    ]
   },
   "source": [
    "## 6. Tally up\n",
    "<p>From the results above see that there are more female authors on the New York Times best seller's list than male authors. Our dataset spans 2008 to 2017. Let's find out if there have been changes over time.</p>"
   ]
  },
  {
   "cell_type": "code",
   "execution_count": null,
   "id": "22160822",
   "metadata": {
    "dc": {
     "key": "38"
    },
    "tags": [
     "sample_code"
    ]
   },
   "outputs": [
    {
     "data": {
      "text/html": [
       "<div>\n",
       "<style scoped>\n",
       "    .dataframe tbody tr th:only-of-type {\n",
       "        vertical-align: middle;\n",
       "    }\n",
       "\n",
       "    .dataframe tbody tr th {\n",
       "        vertical-align: top;\n",
       "    }\n",
       "\n",
       "    .dataframe thead th {\n",
       "        text-align: right;\n",
       "    }\n",
       "</style>\n",
       "<table border=\"1\" class=\"dataframe\">\n",
       "  <thead>\n",
       "    <tr style=\"text-align: right;\">\n",
       "      <th></th>\n",
       "      <th>2008</th>\n",
       "      <th>2009</th>\n",
       "      <th>2010</th>\n",
       "      <th>2011</th>\n",
       "      <th>2012</th>\n",
       "      <th>2013</th>\n",
       "      <th>2014</th>\n",
       "      <th>2015</th>\n",
       "      <th>2016</th>\n",
       "      <th>2017</th>\n",
       "    </tr>\n",
       "  </thead>\n",
       "  <tbody>\n",
       "    <tr>\n",
       "      <th>males</th>\n",
       "      <td>8</td>\n",
       "      <td>19</td>\n",
       "      <td>27</td>\n",
       "      <td>21</td>\n",
       "      <td>21</td>\n",
       "      <td>11</td>\n",
       "      <td>21</td>\n",
       "      <td>18</td>\n",
       "      <td>25</td>\n",
       "      <td>20</td>\n",
       "    </tr>\n",
       "    <tr>\n",
       "      <th>females</th>\n",
       "      <td>15</td>\n",
       "      <td>45</td>\n",
       "      <td>48</td>\n",
       "      <td>51</td>\n",
       "      <td>46</td>\n",
       "      <td>51</td>\n",
       "      <td>34</td>\n",
       "      <td>30</td>\n",
       "      <td>32</td>\n",
       "      <td>43</td>\n",
       "    </tr>\n",
       "    <tr>\n",
       "      <th>does not exist</th>\n",
       "      <td>1</td>\n",
       "      <td>3</td>\n",
       "      <td>0</td>\n",
       "      <td>1</td>\n",
       "      <td>0</td>\n",
       "      <td>2</td>\n",
       "      <td>1</td>\n",
       "      <td>0</td>\n",
       "      <td>0</td>\n",
       "      <td>1</td>\n",
       "    </tr>\n",
       "  </tbody>\n",
       "</table>\n",
       "</div>"
      ],
      "text/plain": [
       "                2008  2009  2010  2011  2012  2013  2014  2015  2016  2017\n",
       "males              8    19    27    21    21    11    21    18    25    20\n",
       "females           15    45    48    51    46    51    34    30    32    43\n",
       "does not exist     1     3     0     1     0     2     1     0     0     1"
      ]
     },
     "execution_count": 83,
     "metadata": {},
     "output_type": "execute_result"
    }
   ],
   "source": [
    "# Creating a list of unique years, sorted in ascending order.\n",
    "years = list(np.unique(author_df['Year']))\n",
    "\n",
    "# Initializing lists\n",
    "males_by_yr = []\n",
    "females_by_yr = []\n",
    "unknown_by_yr = []\n",
    "\n",
    "# Looping through years to find the number of male, female and unknown authors per year\n",
    "for y in years:\n",
    "    males_by_yr.append(\n",
    "        len(author_df[(author_df['author_gender']=='M')& (author_df['Year']==y)]))\n",
    "    females_by_yr.append(\n",
    "        len(author_df[(author_df[\"author_gender\"] == 'F') & (author_df[\"Year\"] == y)]))\n",
    "    unknown_by_yr.append(len(\n",
    "        author_df[(author_df[\"author_gender\"] == 'does not exist') & (author_df[\"Year\"] == y)]))\n",
    "\n",
    "# Printing out yearly values to examine changes over time\n",
    "data = np.array([males_by_yr,females_by_yr, unknown_by_yr])\n",
    "header =['males','females','does not exist']\n",
    "pd.DataFrame(data,header,years)"
   ]
  },
  {
   "cell_type": "markdown",
   "id": "6b7a7e1f",
   "metadata": {
    "dc": {
     "key": "45"
    },
    "deletable": false,
    "editable": false,
    "run_control": {
     "frozen": true
    },
    "tags": [
     "context"
    ]
   },
   "source": [
    "## 7. Foreign-born authors?\n",
    "<p>Our gender data comes from social security applications of individuals born in the US. Hence, one possible explanation for why there are \"unknown\" genders associated with some author names is because these authors were foreign-born. While making this assumption, we should note that these are only a subset of foreign-born authors as others will have names that have a match in <code>baby_df</code> (and in the social security dataset). </p>\n",
    "<p>Using a bar chart, let's explore the trend of foreign-born authors with no name matches in the social security dataset.</p>"
   ]
  },
  {
   "cell_type": "code",
   "execution_count": null,
   "id": "1d30a912",
   "metadata": {
    "dc": {
     "key": "45"
    },
    "tags": [
     "sample_code"
    ]
   },
   "outputs": [
    {
     "data": {
      "text/plain": [
       "Text(0.5,1,'Unknown Gender By Year')"
      ]
     },
     "execution_count": 85,
     "metadata": {},
     "output_type": "execute_result"
    },
    {
     "data": {
      "image/png": "[encoded data removed]",
      "text/plain": [
       "<matplotlib.figure.Figure at 0x7fdf43a47e80>"
      ]
     },
     "metadata": {
      "needs_background": "light"
     },
     "output_type": "display_data"
    }
   ],
   "source": [
    "# Importing matplotlib\n",
    "import matplotlib.pyplot as plt\n",
    "\n",
    "# This makes plots appear in the notebook\n",
    "%matplotlib inline\n",
    "\n",
    "# Plotting the bar chart\n",
    "plt.bar(years,unknown_by_yr)\n",
    "\n",
    "# [OPTIONAL] - Setting a title, and axes labels\n",
    "plt.xlabel('Year',fontweight='bold')\n",
    "plt.ylabel('No_of_Count',fontweight='bold')\n",
    "plt.title('Unknown Gender By Year',fontweight='bold')\n"
   ]
  },
  {
   "cell_type": "markdown",
   "id": "639a6ef6",
   "metadata": {
    "dc": {
     "key": "52"
    },
    "deletable": false,
    "editable": false,
    "run_control": {
     "frozen": true
    },
    "tags": [
     "context"
    ]
   },
   "source": [
    "## 8. Raising the bar\n",
    "<p>What’s more exciting than a bar chart is a grouped bar chart. This type of chart is good for displaying <em>changes</em> over time while also <em>comparing</em> two or more groups. Let’s use a grouped bar chart to look at the distribution of male and female authors over time.</p>"
   ]
  },
  {
   "cell_type": "code",
   "execution_count": null,
   "id": "671f58d8",
   "metadata": {
    "dc": {
     "key": "52"
    },
    "tags": [
     "sample_code"
    ]
   },
   "outputs": [
    {
     "data": {
      "text/plain": [
       "Text(0.5,1,'Author by Gender')"
      ]
     },
     "execution_count": 87,
     "metadata": {},
     "output_type": "execute_result"
    },
    {
     "data": {
      "image/png": "[encoded data removed]",
      "text/plain": [
       "<matplotlib.figure.Figure at 0x7fdf43a39e80>"
      ]
     },
     "metadata": {
      "needs_background": "light"
     },
     "output_type": "display_data"
    }
   ],
   "source": [
    "# Creating a new list, where 0.25 is added to each year\n",
    "years_shifted = [yr +0.25 for yr in years]\n",
    "\n",
    "# Plotting males_by_yr by year\n",
    "plt.bar(years,males_by_yr,width=0.75)\n",
    "\n",
    "# Plotting females_by_yr by years_shifted\n",
    "plt.bar(years_shifted,females_by_yr,width=0.75)\n",
    "\n",
    "# [OPTIONAL] - Adding relevant Axes labels and Chart Title\n",
    "plt.xlabel('Year',fontweight='bold')\n",
    "plt.ylabel('No_of_Count',fontweight='bold')\n",
    "plt.title('Author by Gender',fontweight='bold')\n",
    "\n"
   ]
  }
 ],
 "metadata": {
  "kernelspec": {
   "display_name": "Python 3 (ipykernel)",
   "language": "python",
   "name": "python3"
  },
  "language_info": {
   "codemirror_mode": {
    "name": "ipython",
    "version": 3
   },
   "file_extension": ".py",
   "mimetype": "text/x-python",
   "name": "python",
   "nbconvert_exporter": "python",
   "pygments_lexer": "ipython3",
   "version": "3.8.10"
  }
 },
 "nbformat": 4,
 "nbformat_minor": 5
}
